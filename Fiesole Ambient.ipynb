{
 "cells": [
  {
   "cell_type": "markdown",
   "metadata": {},
   "source": [
    "# Fiesole\n",
    "\n",
    "This project aims to demonstrate the feasibility of Vertical-Federated-Learning CNN architectures.\n"
   ]
  },
  {
   "cell_type": "code",
   "execution_count": 1,
   "metadata": {},
   "outputs": [],
   "source": [
    "import torch\n",
    "import torch.nn as nn\n",
    "import torch.optim as optim\n",
    "import torchvision\n",
    "import torchvision.transforms as transforms\n",
    "import matplotlib.pyplot as plt\n"
   ]
  },
  {
   "cell_type": "code",
   "execution_count": 2,
   "metadata": {},
   "outputs": [],
   "source": [
    "BATCH_SIZE = 32\n",
    "MNIST_CLASSES = 10\n",
    "LEARNING_RATE = 0.001\n",
    "ALL_HANDS_ON_DECK = 50\n",
    "AMBIENT = 0.0001\n"
   ]
  },
  {
   "cell_type": "code",
   "execution_count": 3,
   "metadata": {},
   "outputs": [],
   "source": [
    "class QuadrantTransform:\n",
    "    def __init__(self, quadrant):\n",
    "        assert quadrant in [\n",
    "            \"tl\",\n",
    "            \"tr\",\n",
    "            \"bl\",\n",
    "            \"br\",\n",
    "        ], \"Invalid quadrant. Choose from 'tl', 'tr', 'bl', 'br'\"\n",
    "        self.quadrant = quadrant\n",
    "\n",
    "    def __call__(self, img):\n",
    "        # Convert PIL image to tensor\n",
    "        tensor = transforms.ToTensor()(img)\n",
    "\n",
    "        # Create a blank (transparent) tensor of the same shape\n",
    "        blank = torch.zeros_like(tensor)\n",
    "\n",
    "        # Generate ambient noise\n",
    "        noise = torch.rand(tensor.shape) * AMBIENT\n",
    "\n",
    "        if self.quadrant == \"tl\":\n",
    "            blank[:, :14, :14] = tensor[:, :14, :14]\n",
    "            blank[:, :14, 14:] = noise[:, :14, 14:]\n",
    "            blank[:, 14:, :14] = noise[:, 14:, :14]\n",
    "            blank[:, 14:, 14:] = noise[:, 14:, 14:]\n",
    "        elif self.quadrant == \"tr\":\n",
    "            blank[:, :14, 14:] = tensor[:, :14, 14:]\n",
    "            blank[:, :14, :14] = noise[:, :14, :14]\n",
    "            blank[:, 14:, 14:] = noise[:, 14:, 14:]\n",
    "            blank[:, 14:, :14] = noise[:, 14:, :14]\n",
    "        elif self.quadrant == \"bl\":\n",
    "            blank[:, 14:, :14] = tensor[:, 14:, :14]\n",
    "            blank[:, :14, :14] = noise[:, :14, :14]\n",
    "            blank[:, 14:, 14:] = noise[:, 14:, 14:]\n",
    "            blank[:, :14, 14:] = noise[:, :14, 14:]\n",
    "        elif self.quadrant == \"br\":\n",
    "            blank[:, 14:, 14:] = tensor[:, 14:, 14:]\n",
    "            blank[:, :14, 14:] = noise[:, :14, 14:]\n",
    "            blank[:, 14:, :14] = noise[:, 14:, :14]\n",
    "            blank[:, :14, :14] = noise[:, :14, :14]\n",
    "\n",
    "        return blank\n"
   ]
  },
  {
   "cell_type": "code",
   "execution_count": 4,
   "metadata": {},
   "outputs": [],
   "source": [
    "transform_tl = transforms.Compose([QuadrantTransform(\"tl\")])\n",
    "transform_tr = transforms.Compose([QuadrantTransform(\"tr\")])\n",
    "transform_bl = transforms.Compose([QuadrantTransform(\"bl\")])\n",
    "transform_br = transforms.Compose([QuadrantTransform(\"br\")])\n",
    "\n",
    "transform = transforms.Compose(\n",
    "    [transforms.ToTensor(), transforms.Normalize((0.5,), (0.5,))]\n",
    ")\n",
    "\n",
    "trainset_tl = torchvision.datasets.MNIST(\n",
    "    root=\"./control\", train=True, download=True, transform=transform_tl\n",
    ")\n",
    "trainset_tr = torchvision.datasets.MNIST(\n",
    "    root=\"./control\", train=True, download=True, transform=transform_tr\n",
    ")\n",
    "trainset_bl = torchvision.datasets.MNIST(\n",
    "    root=\"./control\", train=True, download=True, transform=transform_bl\n",
    ")\n",
    "trainset_br = torchvision.datasets.MNIST(\n",
    "    root=\"./control\", train=True, download=True, transform=transform_br\n",
    ")\n",
    "\n",
    "trainloader_tl = torch.utils.data.DataLoader(trainset_tl, batch_size=4)\n",
    "trainloader_tr = torch.utils.data.DataLoader(trainset_tr, batch_size=4)\n",
    "trainloader_bl = torch.utils.data.DataLoader(trainset_bl, batch_size=4)\n",
    "trainloader_br = torch.utils.data.DataLoader(trainset_br, batch_size=4)\n",
    "\n",
    "\n",
    "testset = torchvision.datasets.MNIST(\n",
    "    root=\"./control\", train=False, download=True, transform=transform\n",
    ")\n",
    "test_loader = torch.utils.data.DataLoader(testset, batch_size=64, shuffle=False)\n"
   ]
  },
  {
   "cell_type": "code",
   "execution_count": 5,
   "metadata": {},
   "outputs": [],
   "source": [
    "class CNN(nn.Module):\n",
    "    def __init__(self):\n",
    "        super(CNN, self).__init__()\n",
    "        self.conv1 = nn.Conv2d(1, 32, kernel_size=3, stride=1, padding=1)\n",
    "        self.relu1 = nn.ReLU()\n",
    "        self.pool1 = nn.MaxPool2d(kernel_size=2, stride=2, padding=0)\n",
    "\n",
    "        self.conv2 = nn.Conv2d(32, 64, kernel_size=3, stride=1, padding=1)\n",
    "        self.relu2 = nn.ReLU()\n",
    "        self.pool2 = nn.MaxPool2d(kernel_size=2, stride=2, padding=0)\n",
    "\n",
    "        self.fc1 = nn.Linear(64 * 7 * 7, 128)\n",
    "        self.fc_relu1 = nn.ReLU()\n",
    "        self.fc2 = nn.Linear(128, 10)\n",
    "\n",
    "    def forward(self, x):\n",
    "        x = self.conv1(x)\n",
    "        x = self.relu1(x)\n",
    "        x = self.pool1(x)\n",
    "\n",
    "        x = self.conv2(x)\n",
    "        x = self.relu2(x)\n",
    "        x = self.pool2(x)\n",
    "\n",
    "        x = x.view(-1, 64 * 7 * 7)\n",
    "\n",
    "        x = self.fc1(x)\n",
    "        x = self.fc_relu1(x)\n",
    "        x = self.fc2(x)\n",
    "        return x\n"
   ]
  },
  {
   "cell_type": "code",
   "execution_count": 6,
   "metadata": {},
   "outputs": [],
   "source": [
    "model = CNN()\n",
    "\n",
    "if torch.cuda.is_available():\n",
    "    model = model.cuda()\n",
    "\n",
    "criterion = nn.CrossEntropyLoss()\n"
   ]
  },
  {
   "cell_type": "code",
   "execution_count": 7,
   "metadata": {},
   "outputs": [],
   "source": [
    "import matplotlib.pyplot as plt\n",
    "\n",
    "\n",
    "def visualize_mnist_digit_horizontally(digits):\n",
    "    fig, axs = plt.subplots(1, len(digits))\n",
    "    for i, digit in enumerate(digits):\n",
    "        if digit.shape != (28, 28):\n",
    "            digit = digit.reshape(28, 28)\n",
    "        axs[i].imshow(digit, cmap=\"gray\")\n",
    "        axs[i].axis(\"off\")  # hide the axis\n",
    "    plt.show()\n",
    "\n",
    "\n",
    "def example(trainset_tl, trainset_tr, trainset_bl, trainset_br):\n",
    "    data_idx = torch.randint(0, len(trainset_tl), (1,)).item()\n",
    "\n",
    "    digits = [\n",
    "        trainset_tl[data_idx][0],\n",
    "        trainset_tr[data_idx][0],\n",
    "        trainset_bl[data_idx][0],\n",
    "        trainset_br[data_idx][0],\n",
    "    ]\n",
    "\n",
    "    visualize_mnist_digit_horizontally(digits)\n",
    "    print(trainset_tl[data_idx][1])\n"
   ]
  },
  {
   "cell_type": "code",
   "execution_count": 8,
   "metadata": {},
   "outputs": [],
   "source": [
    "def test_model(debug_string, model):\n",
    "    model.eval()\n",
    "    with torch.no_grad():\n",
    "        correct = 0\n",
    "        total = 0\n",
    "        for images, labels in test_loader:\n",
    "            if torch.cuda.is_available():\n",
    "                images = images.cuda()\n",
    "                labels = labels.cuda()\n",
    "            outputs = model(images)\n",
    "            _, predicted = torch.max(outputs.data, 1)\n",
    "            total += labels.size(0)\n",
    "            correct += (predicted == labels).sum().item()\n",
    "\n",
    "        print(debug_string, correct / total)\n",
    "    return correct / total\n",
    "\n",
    "\n",
    "# Training loop\n",
    "def train_model(model, trainloader, optimizer):\n",
    "    num_epochs = 1\n",
    "    model.train()\n",
    "    for epoch in range(num_epochs):\n",
    "        for i, (images, labels) in enumerate(trainloader):\n",
    "            if torch.cuda.is_available():\n",
    "                model = model.cuda()\n",
    "                images = images.cuda()\n",
    "                labels = labels.cuda()\n",
    "            outputs = model(images)\n",
    "            loss = criterion(outputs, labels)\n",
    "            optimizer.zero_grad()\n",
    "            loss.backward()\n",
    "            optimizer.step()\n",
    "\n",
    "\n",
    "def average_weights(*models):\n",
    "    \"\"\"Averages the weights of the given models.\"\"\"\n",
    "    avg_dict = {}\n",
    "\n",
    "    # Get the state dictionary of the first model to initialize the avg_dict\n",
    "    for key in models[0].state_dict().keys():\n",
    "        avg_dict[key] = sum([model.state_dict()[key] for model in models]) / len(models)\n",
    "\n",
    "    return avg_dict\n"
   ]
  },
  {
   "cell_type": "code",
   "execution_count": 9,
   "metadata": {},
   "outputs": [],
   "source": [
    "import copy\n",
    "\n",
    "tl_history = []\n",
    "tr_history = []\n",
    "bl_history = []\n",
    "br_history = []\n",
    "avg_history = []\n",
    "\n",
    "\n",
    "def federated_learning(original_model):\n",
    "    model_tl = copy.deepcopy(original_model)\n",
    "    optimizer_tl = optim.Adam(model_tl.parameters(), lr=LEARNING_RATE)\n",
    "    model_tr = copy.deepcopy(original_model)\n",
    "    optimizer_tr = optim.Adam(model_tr.parameters(), lr=LEARNING_RATE)\n",
    "    model_bl = copy.deepcopy(original_model)\n",
    "    optimizer_bl = optim.Adam(model_bl.parameters(), lr=LEARNING_RATE)\n",
    "    model_br = copy.deepcopy(original_model)\n",
    "    optimizer_br = optim.Adam(model_br.parameters(), lr=LEARNING_RATE)\n",
    "\n",
    "    transform_tl = transforms.Compose([QuadrantTransform(\"tl\")])\n",
    "    transform_tr = transforms.Compose([QuadrantTransform(\"tr\")])\n",
    "    transform_bl = transforms.Compose([QuadrantTransform(\"bl\")])\n",
    "    transform_br = transforms.Compose([QuadrantTransform(\"br\")])\n",
    "\n",
    "    transform = transforms.Compose(\n",
    "        [transforms.ToTensor(), transforms.Normalize((0.5,), (0.5,))]\n",
    "    )\n",
    "\n",
    "    trainset_tl = torchvision.datasets.MNIST(\n",
    "        root=\"./control\", train=True, download=True, transform=transform_tl\n",
    "    )\n",
    "    trainset_tr = torchvision.datasets.MNIST(\n",
    "        root=\"./control\", train=True, download=True, transform=transform_tr\n",
    "    )\n",
    "    trainset_bl = torchvision.datasets.MNIST(\n",
    "        root=\"./control\", train=True, download=True, transform=transform_bl\n",
    "    )\n",
    "    trainset_br = torchvision.datasets.MNIST(\n",
    "        root=\"./control\", train=True, download=True, transform=transform_br\n",
    "    )\n",
    "\n",
    "    trainloader_tl = torch.utils.data.DataLoader(trainset_tl, batch_size=4)\n",
    "    trainloader_tr = torch.utils.data.DataLoader(trainset_tr, batch_size=4)\n",
    "    trainloader_bl = torch.utils.data.DataLoader(trainset_bl, batch_size=4)\n",
    "    trainloader_br = torch.utils.data.DataLoader(trainset_br, batch_size=4)\n",
    "\n",
    "    example(trainset_tl, trainset_tr, trainset_bl, trainset_br)\n",
    "\n",
    "    train_model(model_tl, trainloader_tl, optimizer_tl)\n",
    "    tl_history.append(test_model(\"TL\", model_tl))\n",
    "\n",
    "    train_model(model_tr, trainloader_tr, optimizer_tr)\n",
    "    tr_history.append(test_model(\"TR\", model_tr))\n",
    "\n",
    "    train_model(model_bl, trainloader_bl, optimizer_bl)\n",
    "    bl_history.append(test_model(\"BL\", model_bl))\n",
    "\n",
    "    train_model(model_br, trainloader_br, optimizer_br)\n",
    "    br_history.append(test_model(\"BR\", model_br))\n",
    "\n",
    "    avg_state_dict = average_weights(model_tl, model_tr, model_bl, model_br)\n",
    "\n",
    "    new_model = CNN()\n",
    "    new_model.load_state_dict(avg_state_dict)\n",
    "\n",
    "    if torch.cuda.is_available():\n",
    "        new_model = new_model.cuda()\n",
    "\n",
    "    avg_history.append(test_model(\"avg\", new_model))\n",
    "    return new_model\n"
   ]
  },
  {
   "cell_type": "code",
   "execution_count": 10,
   "metadata": {},
   "outputs": [
    {
     "name": "stdout",
     "output_type": "stream",
     "text": [
      "Iteration 1\n"
     ]
    },
    {
     "data": {
      "image/png": "[encoded data removed]",
      "text/plain": [
       "<Figure size 640x480 with 4 Axes>"
      ]
     },
     "metadata": {},
     "output_type": "display_data"
    },
    {
     "name": "stdout",
     "output_type": "stream",
     "text": [
      "3\n",
      "TL 0.1232\n",
      "TR 0.1686\n",
      "BL 0.1031\n",
      "BR 0.0892\n",
      "avg 0.1414\n",
      "Iteration 2\n"
     ]
    },
    {
     "data": {
      "image/png": "[encoded data removed]",
      "text/plain": [
       "<Figure size 640x480 with 4 Axes>"
      ]
     },
     "metadata": {},
     "output_type": "display_data"
    },
    {
     "name": "stdout",
     "output_type": "stream",
     "text": [
      "2\n",
      "TL 0.1135\n",
      "TR 0.1667\n",
      "BL 0.1044\n",
      "BR 0.0952\n",
      "avg 0.1401\n",
      "Iteration 3\n"
     ]
    },
    {
     "data": {
      "image/png": "[encoded data removed]",
      "text/plain": [
       "<Figure size 640x480 with 4 Axes>"
      ]
     },
     "metadata": {},
     "output_type": "display_data"
    },
    {
     "name": "stdout",
     "output_type": "stream",
     "text": [
      "8\n",
      "TL 0.1259\n",
      "TR 0.1105\n",
      "BL 0.1323\n",
      "BR 0.0892\n",
      "avg 0.1425\n",
      "Iteration 4\n"
     ]
    },
    {
     "data": {
      "image/png": "[encoded data removed]",
      "text/plain": [
       "<Figure size 640x480 with 4 Axes>"
      ]
     },
     "metadata": {},
     "output_type": "display_data"
    },
    {
     "name": "stdout",
     "output_type": "stream",
     "text": [
      "6\n",
      "TL 0.0803\n",
      "TR 0.0983\n",
      "BL 0.2069\n",
      "BR 0.0892\n",
      "avg 0.1414\n",
      "Iteration 5\n"
     ]
    },
    {
     "data": {
      "image/png": "[encoded data removed]",
      "text/plain": [
       "<Figure size 640x480 with 4 Axes>"
      ]
     },
     "metadata": {},
     "output_type": "display_data"
    },
    {
     "name": "stdout",
     "output_type": "stream",
     "text": [
      "3\n",
      "TL 0.1042\n",
      "TR 0.1284\n",
      "BL 0.3886\n",
      "BR 0.0892\n",
      "avg 0.115\n",
      "Iteration 6\n"
     ]
    },
    {
     "data": {
      "image/png": "[encoded data removed]",
      "text/plain": [
       "<Figure size 640x480 with 4 Axes>"
      ]
     },
     "metadata": {},
     "output_type": "display_data"
    },
    {
     "name": "stdout",
     "output_type": "stream",
     "text": [
      "8\n",
      "TL 0.107\n",
      "TR 0.1157\n",
      "BL 0.3216\n",
      "BR 0.0892\n",
      "avg 0.0964\n",
      "Iteration 7\n"
     ]
    },
    {
     "data": {
      "image/png": "[encoded data removed]",
      "text/plain": [
       "<Figure size 640x480 with 4 Axes>"
      ]
     },
     "metadata": {},
     "output_type": "display_data"
    },
    {
     "name": "stdout",
     "output_type": "stream",
     "text": [
      "7\n",
      "TL 0.1033\n",
      "TR 0.1513\n",
      "BL 0.1857\n",
      "BR 0.0892\n",
      "avg 0.0962\n",
      "Iteration 8\n"
     ]
    },
    {
     "data": {
      "image/png": "[encoded data removed]",
      "text/plain": [
       "<Figure size 640x480 with 4 Axes>"
      ]
     },
     "metadata": {},
     "output_type": "display_data"
    },
    {
     "name": "stdout",
     "output_type": "stream",
     "text": [
      "3\n",
      "TL 0.1032\n",
      "TR 0.159\n",
      "BL 0.13\n",
      "BR 0.0882\n",
      "avg 0.1019\n",
      "Iteration 9\n"
     ]
    },
    {
     "data": {
      "image/png": "[encoded data removed]",
      "text/plain": [
       "<Figure size 640x480 with 4 Axes>"
      ]
     },
     "metadata": {},
     "output_type": "display_data"
    },
    {
     "name": "stdout",
     "output_type": "stream",
     "text": [
      "8\n",
      "TL 0.1037\n",
      "TR 0.1357\n",
      "BL 0.1829\n",
      "BR 0.0936\n",
      "avg 0.0797\n",
      "Iteration 10\n"
     ]
    },
    {
     "data": {
      "image/png": "[encoded data removed]",
      "text/plain": [
       "<Figure size 640x480 with 4 Axes>"
      ]
     },
     "metadata": {},
     "output_type": "display_data"
    },
    {
     "name": "stdout",
     "output_type": "stream",
     "text": [
      "9\n",
      "TL 0.1132\n",
      "TR 0.1674\n",
      "BL 0.1863\n",
      "BR 0.0892\n",
      "avg 0.0807\n",
      "Iteration 11\n"
     ]
    },
    {
     "data": {
      "image/png": "[encoded data removed]",
      "text/plain": [
       "<Figure size 640x480 with 4 Axes>"
      ]
     },
     "metadata": {},
     "output_type": "display_data"
    },
    {
     "name": "stdout",
     "output_type": "stream",
     "text": [
      "0\n",
      "TL 0.1095\n",
      "TR 0.1737\n",
      "BL 0.186\n",
      "BR 0.0858\n",
      "avg 0.0862\n",
      "Iteration 12\n"
     ]
    },
    {
     "data": {
      "image/png": "[encoded data removed]",
      "text/plain": [
       "<Figure size 640x480 with 4 Axes>"
      ]
     },
     "metadata": {},
     "output_type": "display_data"
    },
    {
     "name": "stdout",
     "output_type": "stream",
     "text": [
      "6\n",
      "TL 0.1032\n",
      "TR 0.1558\n",
      "BL 0.1788\n",
      "BR 0.0892\n",
      "avg 0.1081\n",
      "Iteration 13\n"
     ]
    },
    {
     "data": {
      "image/png": "[encoded data removed]",
      "text/plain": [
       "<Figure size 640x480 with 4 Axes>"
      ]
     },
     "metadata": {},
     "output_type": "display_data"
    },
    {
     "name": "stdout",
     "output_type": "stream",
     "text": [
      "8\n",
      "TL 0.1033\n",
      "TR 0.1569\n",
      "BL 0.1566\n",
      "BR 0.0892\n",
      "avg 0.1032\n",
      "Iteration 14\n"
     ]
    },
    {
     "data": {
      "image/png": "[encoded data removed]",
      "text/plain": [
       "<Figure size 640x480 with 4 Axes>"
      ]
     },
     "metadata": {},
     "output_type": "display_data"
    },
    {
     "name": "stdout",
     "output_type": "stream",
     "text": [
      "3\n",
      "TL 0.1032\n",
      "TR 0.1032\n",
      "BL 0.1206\n",
      "BR 0.0892\n",
      "avg 0.1032\n",
      "Iteration 15\n"
     ]
    },
    {
     "data": {
      "image/png": "[encoded data removed]",
      "text/plain": [
       "<Figure size 640x480 with 4 Axes>"
      ]
     },
     "metadata": {},
     "output_type": "display_data"
    },
    {
     "name": "stdout",
     "output_type": "stream",
     "text": [
      "4\n",
      "TL 0.1032\n",
      "TR 0.1032\n",
      "BL 0.1502\n",
      "BR 0.0986\n",
      "avg 0.1032\n",
      "Iteration 16\n"
     ]
    },
    {
     "data": {
      "image/png": "[encoded data removed]",
      "text/plain": [
       "<Figure size 640x480 with 4 Axes>"
      ]
     },
     "metadata": {},
     "output_type": "display_data"
    },
    {
     "name": "stdout",
     "output_type": "stream",
     "text": [
      "5\n",
      "TL 0.1032\n",
      "TR 0.1032\n",
      "BL 0.1645\n",
      "BR 0.1791\n",
      "avg 0.1032\n",
      "Iteration 17\n"
     ]
    },
    {
     "data": {
      "image/png": "[encoded data removed]",
      "text/plain": [
       "<Figure size 640x480 with 4 Axes>"
      ]
     },
     "metadata": {},
     "output_type": "display_data"
    },
    {
     "name": "stdout",
     "output_type": "stream",
     "text": [
      "2\n",
      "TL 0.1032\n",
      "TR 0.1032\n",
      "BL 0.1053\n",
      "BR 0.0905\n",
      "avg 0.1032\n",
      "Iteration 18\n"
     ]
    },
    {
     "data": {
      "image/png": "[encoded data removed]",
      "text/plain": [
       "<Figure size 640x480 with 4 Axes>"
      ]
     },
     "metadata": {},
     "output_type": "display_data"
    },
    {
     "name": "stdout",
     "output_type": "stream",
     "text": [
      "3\n",
      "TL 0.1032\n",
      "TR 0.1032\n",
      "BL 0.1805\n",
      "BR 0.1972\n",
      "avg 0.1032\n",
      "Iteration 19\n"
     ]
    },
    {
     "data": {
      "image/png": "[encoded data removed]",
      "text/plain": [
       "<Figure size 640x480 with 4 Axes>"
      ]
     },
     "metadata": {},
     "output_type": "display_data"
    },
    {
     "name": "stdout",
     "output_type": "stream",
     "text": [
      "8\n",
      "TL 0.1032\n",
      "TR 0.1032\n",
      "BL 0.1761\n",
      "BR 0.1127\n",
      "avg 0.1032\n",
      "Iteration 20\n"
     ]
    },
    {
     "data": {
      "image/png": "[encoded data removed]",
      "text/plain": [
       "<Figure size 640x480 with 4 Axes>"
      ]
     },
     "metadata": {},
     "output_type": "display_data"
    },
    {
     "name": "stdout",
     "output_type": "stream",
     "text": [
      "8\n",
      "TL 0.1032\n",
      "TR 0.1032\n",
      "BL 0.1128\n",
      "BR 0.1825\n",
      "avg 0.1032\n",
      "Iteration 21\n"
     ]
    },
    {
     "data": {
      "image/png": "[encoded data removed]",
      "text/plain": [
       "<Figure size 640x480 with 4 Axes>"
      ]
     },
     "metadata": {},
     "output_type": "display_data"
    },
    {
     "name": "stdout",
     "output_type": "stream",
     "text": [
      "3\n",
      "TL 0.1032\n",
      "TR 0.1032\n",
      "BL 0.1041\n",
      "BR 0.1663\n",
      "avg 0.1032\n",
      "Iteration 22\n"
     ]
    },
    {
     "data": {
      "image/png": "[encoded data removed]",
      "text/plain": [
       "<Figure size 640x480 with 4 Axes>"
      ]
     },
     "metadata": {},
     "output_type": "display_data"
    },
    {
     "name": "stdout",
     "output_type": "stream",
     "text": [
      "8\n",
      "TL 0.1032\n",
      "TR 0.1032\n",
      "BL 0.1032\n",
      "BR 0.1044\n",
      "avg 0.1032\n",
      "Iteration 23\n"
     ]
    },
    {
     "data": {
      "image/png": "[encoded data removed]",
      "text/plain": [
       "<Figure size 640x480 with 4 Axes>"
      ]
     },
     "metadata": {},
     "output_type": "display_data"
    },
    {
     "name": "stdout",
     "output_type": "stream",
     "text": [
      "7\n",
      "TL 0.1032\n",
      "TR 0.1032\n",
      "BL 0.1636\n",
      "BR 0.1058\n",
      "avg 0.1032\n",
      "Iteration 24\n"
     ]
    },
    {
     "data": {
      "image/png": "[encoded data removed]",
      "text/plain": [
       "<Figure size 640x480 with 4 Axes>"
      ]
     },
     "metadata": {},
     "output_type": "display_data"
    },
    {
     "name": "stdout",
     "output_type": "stream",
     "text": [
      "8\n",
      "TL 0.1032\n",
      "TR 0.1032\n",
      "BL 0.1033\n",
      "BR 0.115\n",
      "avg 0.1032\n",
      "Iteration 25\n"
     ]
    },
    {
     "data": {
      "image/png": "[encoded data removed]",
      "text/plain": [
       "<Figure size 640x480 with 4 Axes>"
      ]
     },
     "metadata": {},
     "output_type": "display_data"
    },
    {
     "name": "stdout",
     "output_type": "stream",
     "text": [
      "4\n",
      "TL 0.1032\n",
      "TR 0.1032\n",
      "BL 0.1149\n",
      "BR 0.1029\n",
      "avg 0.1032\n",
      "Iteration 26\n"
     ]
    },
    {
     "data": {
      "image/png": "[encoded data removed]",
      "text/plain": [
       "<Figure size 640x480 with 4 Axes>"
      ]
     },
     "metadata": {},
     "output_type": "display_data"
    },
    {
     "name": "stdout",
     "output_type": "stream",
     "text": [
      "9\n",
      "TL 0.1032\n",
      "TR 0.1032\n",
      "BL 0.1219\n",
      "BR 0.1028\n",
      "avg 0.1032\n",
      "Iteration 27\n"
     ]
    },
    {
     "data": {
      "image/png": "[encoded data removed]",
      "text/plain": [
       "<Figure size 640x480 with 4 Axes>"
      ]
     },
     "metadata": {},
     "output_type": "display_data"
    },
    {
     "name": "stdout",
     "output_type": "stream",
     "text": [
      "4\n",
      "TL 0.1032\n",
      "TR 0.1032\n",
      "BL 0.1199\n",
      "BR 0.1028\n",
      "avg 0.1032\n",
      "Iteration 28\n"
     ]
    },
    {
     "data": {
      "image/png": "[encoded data removed]",
      "text/plain": [
       "<Figure size 640x480 with 4 Axes>"
      ]
     },
     "metadata": {},
     "output_type": "display_data"
    },
    {
     "name": "stdout",
     "output_type": "stream",
     "text": [
      "9\n",
      "TL 0.1032\n",
      "TR 0.1032\n",
      "BL 0.1271\n",
      "BR 0.1028\n",
      "avg 0.1032\n",
      "Iteration 29\n"
     ]
    },
    {
     "data": {
      "image/png": "[encoded data removed]",
      "text/plain": [
       "<Figure size 640x480 with 4 Axes>"
      ]
     },
     "metadata": {},
     "output_type": "display_data"
    },
    {
     "name": "stdout",
     "output_type": "stream",
     "text": [
      "6\n",
      "TL 0.1032\n",
      "TR 0.1032\n",
      "BL 0.1649\n",
      "BR 0.1028\n",
      "avg 0.1032\n",
      "Iteration 30\n"
     ]
    },
    {
     "data": {
      "image/png": "[encoded data removed]",
      "text/plain": [
       "<Figure size 640x480 with 4 Axes>"
      ]
     },
     "metadata": {},
     "output_type": "display_data"
    },
    {
     "name": "stdout",
     "output_type": "stream",
     "text": [
      "4\n",
      "TL 0.1032\n",
      "TR 0.1032\n",
      "BL 0.1032\n",
      "BR 0.1028\n",
      "avg 0.1032\n",
      "Iteration 31\n"
     ]
    },
    {
     "data": {
      "image/png": "[encoded data removed]",
      "text/plain": [
       "<Figure size 640x480 with 4 Axes>"
      ]
     },
     "metadata": {},
     "output_type": "display_data"
    },
    {
     "name": "stdout",
     "output_type": "stream",
     "text": [
      "5\n",
      "TL 0.1032\n",
      "TR 0.1032\n",
      "BL 0.114\n",
      "BR 0.1028\n",
      "avg 0.1032\n",
      "Iteration 32\n"
     ]
    },
    {
     "data": {
      "image/png": "[encoded data removed]",
      "text/plain": [
       "<Figure size 640x480 with 4 Axes>"
      ]
     },
     "metadata": {},
     "output_type": "display_data"
    },
    {
     "name": "stdout",
     "output_type": "stream",
     "text": [
      "6\n",
      "TL 0.1032\n",
      "TR 0.1032\n",
      "BL 0.1034\n",
      "BR 0.1118\n",
      "avg 0.1032\n",
      "Iteration 33\n"
     ]
    },
    {
     "data": {
      "image/png": "[encoded data removed]",
      "text/plain": [
       "<Figure size 640x480 with 4 Axes>"
      ]
     },
     "metadata": {},
     "output_type": "display_data"
    },
    {
     "name": "stdout",
     "output_type": "stream",
     "text": [
      "8\n",
      "TL 0.1032\n",
      "TR 0.1032\n",
      "BL 0.1032\n",
      "BR 0.103\n",
      "avg 0.1032\n",
      "Iteration 34\n"
     ]
    },
    {
     "data": {
      "image/png": "[encoded data removed]",
      "text/plain": [
       "<Figure size 640x480 with 4 Axes>"
      ]
     },
     "metadata": {},
     "output_type": "display_data"
    },
    {
     "name": "stdout",
     "output_type": "stream",
     "text": [
      "1\n",
      "TL 0.1032\n",
      "TR 0.1032\n",
      "BL 0.1032\n",
      "BR 0.1034\n",
      "avg 0.1032\n",
      "Iteration 35\n"
     ]
    },
    {
     "data": {
      "image/png": "[encoded data removed]",
      "text/plain": [
       "<Figure size 640x480 with 4 Axes>"
      ]
     },
     "metadata": {},
     "output_type": "display_data"
    },
    {
     "name": "stdout",
     "output_type": "stream",
     "text": [
      "5\n",
      "TL 0.1032\n",
      "TR 0.1032\n",
      "BL 0.1032\n",
      "BR 0.1028\n",
      "avg 0.1032\n",
      "Iteration 36\n"
     ]
    },
    {
     "data": {
      "image/png": "[encoded data removed]",
      "text/plain": [
       "<Figure size 640x480 with 4 Axes>"
      ]
     },
     "metadata": {},
     "output_type": "display_data"
    },
    {
     "name": "stdout",
     "output_type": "stream",
     "text": [
      "2\n",
      "TL 0.1032\n",
      "TR 0.1032\n",
      "BL 0.1032\n",
      "BR 0.1276\n",
      "avg 0.1032\n",
      "Iteration 37\n"
     ]
    },
    {
     "data": {
      "image/png": "[encoded data removed]",
      "text/plain": [
       "<Figure size 640x480 with 4 Axes>"
      ]
     },
     "metadata": {},
     "output_type": "display_data"
    },
    {
     "name": "stdout",
     "output_type": "stream",
     "text": [
      "8\n",
      "TL 0.1032\n",
      "TR 0.1032\n",
      "BL 0.1032\n",
      "BR 0.1028\n",
      "avg 0.1032\n",
      "Iteration 38\n"
     ]
    },
    {
     "data": {
      "image/png": "[encoded data removed]",
      "text/plain": [
       "<Figure size 640x480 with 4 Axes>"
      ]
     },
     "metadata": {},
     "output_type": "display_data"
    },
    {
     "name": "stdout",
     "output_type": "stream",
     "text": [
      "5\n",
      "TL 0.1032\n",
      "TR 0.1032\n",
      "BL 0.1032\n",
      "BR 0.1028\n",
      "avg 0.1032\n",
      "Iteration 39\n"
     ]
    },
    {
     "data": {
      "image/png": "[encoded data removed]",
      "text/plain": [
       "<Figure size 640x480 with 4 Axes>"
      ]
     },
     "metadata": {},
     "output_type": "display_data"
    },
    {
     "name": "stdout",
     "output_type": "stream",
     "text": [
      "3\n",
      "TL 0.1032\n",
      "TR 0.1032\n",
      "BL 0.1032\n",
      "BR 0.1028\n",
      "avg 0.1032\n",
      "Iteration 40\n"
     ]
    },
    {
     "data": {
      "image/png": "[encoded data removed]",
      "text/plain": [
       "<Figure size 640x480 with 4 Axes>"
      ]
     },
     "metadata": {},
     "output_type": "display_data"
    },
    {
     "name": "stdout",
     "output_type": "stream",
     "text": [
      "7\n",
      "TL 0.1032\n",
      "TR 0.1032\n",
      "BL 0.1032\n",
      "BR 0.1032\n",
      "avg 0.1032\n",
      "Iteration 41\n"
     ]
    },
    {
     "data": {
      "image/png": "[encoded data removed]",
      "text/plain": [
       "<Figure size 640x480 with 4 Axes>"
      ]
     },
     "metadata": {},
     "output_type": "display_data"
    },
    {
     "name": "stdout",
     "output_type": "stream",
     "text": [
      "8\n",
      "TL 0.1032\n",
      "TR 0.1032\n",
      "BL 0.1032\n",
      "BR 0.1028\n",
      "avg 0.1032\n",
      "Iteration 42\n"
     ]
    },
    {
     "data": {
      "image/png": "[encoded data removed]",
      "text/plain": [
       "<Figure size 640x480 with 4 Axes>"
      ]
     },
     "metadata": {},
     "output_type": "display_data"
    },
    {
     "name": "stdout",
     "output_type": "stream",
     "text": [
      "3\n",
      "TL 0.1032\n",
      "TR 0.1032\n",
      "BL 0.1032\n",
      "BR 0.1028\n",
      "avg 0.1032\n",
      "Iteration 43\n"
     ]
    },
    {
     "data": {
      "image/png": "[encoded data removed]",
      "text/plain": [
       "<Figure size 640x480 with 4 Axes>"
      ]
     },
     "metadata": {},
     "output_type": "display_data"
    },
    {
     "name": "stdout",
     "output_type": "stream",
     "text": [
      "7\n",
      "TL 0.1032\n",
      "TR 0.1032\n",
      "BL 0.1032\n",
      "BR 0.1207\n",
      "avg 0.1032\n",
      "Iteration 44\n"
     ]
    },
    {
     "data": {
      "image/png": "[encoded data removed]",
      "text/plain": [
       "<Figure size 640x480 with 4 Axes>"
      ]
     },
     "metadata": {},
     "output_type": "display_data"
    },
    {
     "name": "stdout",
     "output_type": "stream",
     "text": [
      "3\n",
      "TL 0.1032\n",
      "TR 0.1032\n",
      "BL 0.1032\n",
      "BR 0.1028\n",
      "avg 0.1032\n",
      "Iteration 45\n"
     ]
    },
    {
     "data": {
      "image/png": "[encoded data removed]",
      "text/plain": [
       "<Figure size 640x480 with 4 Axes>"
      ]
     },
     "metadata": {},
     "output_type": "display_data"
    },
    {
     "name": "stdout",
     "output_type": "stream",
     "text": [
      "7\n",
      "TL 0.1032\n",
      "TR 0.1032\n",
      "BL 0.1032\n",
      "BR 0.1028\n",
      "avg 0.1032\n",
      "Iteration 46\n"
     ]
    },
    {
     "data": {
      "image/png": "[encoded data removed]",
      "text/plain": [
       "<Figure size 640x480 with 4 Axes>"
      ]
     },
     "metadata": {},
     "output_type": "display_data"
    },
    {
     "name": "stdout",
     "output_type": "stream",
     "text": [
      "7\n",
      "TL 0.1032\n",
      "TR 0.1032\n",
      "BL 0.1032\n",
      "BR 0.1038\n",
      "avg 0.1032\n",
      "Iteration 47\n"
     ]
    },
    {
     "data": {
      "image/png": "[encoded data removed]",
      "text/plain": [
       "<Figure size 640x480 with 4 Axes>"
      ]
     },
     "metadata": {},
     "output_type": "display_data"
    },
    {
     "name": "stdout",
     "output_type": "stream",
     "text": [
      "6\n",
      "TL 0.1032\n",
      "TR 0.1032\n",
      "BL 0.1032\n",
      "BR 0.1028\n",
      "avg 0.1032\n",
      "Iteration 48\n"
     ]
    },
    {
     "data": {
      "image/png": "[encoded data removed]",
      "text/plain": [
       "<Figure size 640x480 with 4 Axes>"
      ]
     },
     "metadata": {},
     "output_type": "display_data"
    },
    {
     "name": "stdout",
     "output_type": "stream",
     "text": [
      "7\n",
      "TL 0.1032\n",
      "TR 0.1032\n",
      "BL 0.1032\n",
      "BR 0.1667\n",
      "avg 0.1032\n",
      "Iteration 49\n"
     ]
    },
    {
     "data": {
      "image/png": "[encoded data removed]",
      "text/plain": [
       "<Figure size 640x480 with 4 Axes>"
      ]
     },
     "metadata": {},
     "output_type": "display_data"
    },
    {
     "name": "stdout",
     "output_type": "stream",
     "text": [
      "4\n",
      "TL 0.1032\n",
      "TR 0.1032\n",
      "BL 0.1032\n",
      "BR 0.1032\n",
      "avg 0.1032\n",
      "Iteration 50\n"
     ]
    },
    {
     "data": {
      "image/png": "[encoded data removed]",
      "text/plain": [
       "<Figure size 640x480 with 4 Axes>"
      ]
     },
     "metadata": {},
     "output_type": "display_data"
    },
    {
     "name": "stdout",
     "output_type": "stream",
     "text": [
      "3\n",
      "TL 0.1032\n",
      "TR 0.1032\n",
      "BL 0.1032\n",
      "BR 0.1422\n",
      "avg 0.1032\n"
     ]
    },
    {
     "data": {
      "image/png": "[encoded data removed]",
      "text/plain": [
       "<Figure size 640x480 with 1 Axes>"
      ]
     },
     "metadata": {},
     "output_type": "display_data"
    }
   ],
   "source": [
    "for i in range(ALL_HANDS_ON_DECK):\n",
    "    print(f\"Iteration {i+1}\")\n",
    "    model = federated_learning(model)\n",
    "\n",
    "# Plot the results\n",
    "plt.plot(tl_history, label=\"TL\")\n",
    "plt.plot(tr_history, label=\"TR\")\n",
    "plt.plot(bl_history, label=\"BL\")\n",
    "plt.plot(br_history, label=\"BR\")\n",
    "plt.plot(avg_history, label=\"avg\")\n",
    "plt.legend()\n",
    "plt.xlabel(\"Federations\")\n",
    "plt.ylabel(\"Accuracy\")\n",
    "plt.title(f\"Project Fiesole with Ambience {AMBIENT}\")\n",
    "import datetime\n",
    "\n",
    "current_time = datetime.datetime.now().strftime(\"%Y%m%d-%H%M%S\")\n",
    "plt.savefig(\"fiesole-ambient-\" + current_time + \".png\")\n",
    "\n",
    "plt.show()\n",
    "\n",
    "\n",
    "torch.save(model.state_dict(), \"fiesole.ckpt\")\n"
   ]
  }
 ],
 "metadata": {
  "kernelspec": {
   "display_name": "Python 3",
   "language": "python",
   "name": "python3"
  },
  "language_info": {
   "codemirror_mode": {
    "name": "ipython",
    "version": 3
   },
   "file_extension": ".py",
   "mimetype": "text/x-python",
   "name": "python",
   "nbconvert_exporter": "python",
   "pygments_lexer": "ipython3",
   "version": "3.10.13"
  },
  "orig_nbformat": 4
 },
 "nbformat": 4,
 "nbformat_minor": 2
}
